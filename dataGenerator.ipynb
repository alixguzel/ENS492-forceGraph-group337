{
 "cells": [
  {
   "cell_type": "code",
   "execution_count": 5,
   "metadata": {},
   "outputs": [],
   "source": [
    "import json\n",
    "import random\n",
    "\n",
    "with open(\"Data/Sample/sampleUnzip.json\", \"r\") as f:\n",
    "    data = json.load(f)\n",
    "\n",
    "nodes = data[\"nodes\"]\n",
    "links = []\n",
    "\n",
    "id_str_values = []\n",
    "for node in nodes:\n",
    "    id_str_values.append(node[\"id\"])\n",
    "\n",
    "\n",
    "for i in range(int(len(nodes)/2)):\n",
    "    source_value = random.choice(id_str_values)\n",
    "    target_value = random.choice(id_str_values)\n",
    "    while source_value == target_value:\n",
    "        target_value = random.choice(id_str_values)\n",
    "\n",
    "    new_link = {\"source\": source_value, \"target\": target_value}\n",
    "    if new_link not in links:\n",
    "        links.append(new_link)\n",
    "\n",
    "data[\"links\"] = links\n",
    "\n",
    "with open(\"Data/Sample/sampleUnzip.json\", \"w\") as f:\n",
    "    json.dump(data, f)"
   ]
  },
  {
   "cell_type": "code",
   "execution_count": null,
   "metadata": {},
   "outputs": [],
   "source": [
    "for node in nodes:\n",
    "    node[\"id\"] = node.pop(\"id_str\")"
   ]
  },
  {
   "cell_type": "code",
   "execution_count": 6,
   "metadata": {},
   "outputs": [],
   "source": [
    "import json\n",
    "import gzip\n",
    "\n",
    "with gzip.open('Data/dataverse_files/networks/nodes/follower_profiles_2022-09.jsons.gz', 'rt') as f:\n",
    "    data = [json.loads(line) for line in f.readlines()[:10]]\n",
    "\n",
    "with open('miniProfiles.json', 'w') as f:\n",
    "    json.dump(data, f)"
   ]
  },
  {
   "cell_type": "code",
   "execution_count": 8,
   "metadata": {},
   "outputs": [],
   "source": [
    "import os\n",
    "import json\n",
    "import gzip\n",
    "\n",
    "# Create an empty list called \"nodes\"\n",
    "nodes = []\n",
    "\n",
    "# Open the compressed JSONS file\n",
    "with gzip.open('Data/dataverse_files/networks/nodes/follower_profiles_2022-09.jsons.gz', 'rt') as f:\n",
    "    # Read each line of the JSONS file\n",
    "    for line in f:\n",
    "        # Load the JSON object from the line\n",
    "        obj = json.loads(line)\n",
    "        # Change the name of \"id_str\" attribute of each object to \"id\"\n",
    "        obj['id'] = obj.pop('id_str')\n",
    "        # Append the modified object to the \"nodes\" list\n",
    "        nodes.append(obj)\n",
    "\n",
    "# Create an empty list called \"links\"\n",
    "links = []\n",
    "\n",
    "# Get all files with \".json.gz\" extension under the folder\n",
    "for filename in os.listdir('Data/dataverse_files/networks/edges/2022-09'):\n",
    "    if filename.endswith('.json.gz'):\n",
    "        # Unzip the file\n",
    "        with gzip.open(os.path.join('Data/dataverse_files/networks/edges/2022-09', filename), 'rt') as f:\n",
    "            # Get the part of the file name before the \"_network.json.gz\"\n",
    "            source = filename.split('_')[0]\n",
    "            # Load the JSON object from the file\n",
    "            obj = json.load(f)\n",
    "            # Get all friends from the JSON object\n",
    "            friends = obj['friends']\n",
    "            # Go over each friend and create a link object with source and target attributes\n",
    "            for friend in friends:\n",
    "                link = {'source': friend, 'target': source}\n",
    "                # Append the link object to the \"links\" list\n",
    "                links.append(link)\n",
    "\n",
    "# Create a dictionary containing both nodes and links lists\n",
    "network_data = {'nodes': nodes, 'links': links}\n",
    "\n",
    "# Write network_data dictionary to a JSON file called networkData.json\n",
    "with open('networkData.json', 'w') as f:\n",
    "    json.dump(network_data, f)"
   ]
  }
 ],
 "metadata": {
  "kernelspec": {
   "display_name": "base",
   "language": "python",
   "name": "python3"
  },
  "language_info": {
   "codemirror_mode": {
    "name": "ipython",
    "version": 3
   },
   "file_extension": ".py",
   "mimetype": "text/x-python",
   "name": "python",
   "nbconvert_exporter": "python",
   "pygments_lexer": "ipython3",
   "version": "3.8.5"
  },
  "orig_nbformat": 4
 },
 "nbformat": 4,
 "nbformat_minor": 2
}
