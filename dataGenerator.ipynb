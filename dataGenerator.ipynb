{
 "cells": [
  {
   "cell_type": "code",
   "execution_count": 11,
   "metadata": {},
   "outputs": [],
   "source": [
    "import json\n",
    "import random\n",
    "\n",
    "with open(\"Data/Sample/sampleUnzip.json\", \"r\") as f:\n",
    "    data = json.load(f)\n",
    "\n",
    "nodes = data[\"nodes\"]\n",
    "links = data[\"links\"]\n",
    "\n",
    "id_str_values = []\n",
    "for node in nodes:\n",
    "    id_str_values.append(node[\"id_str\"])\n",
    "\n",
    "\n",
    "for i in range(int(len(nodes)/2)):\n",
    "    source_value = random.choice(id_str_values)\n",
    "    target_value = random.choice(id_str_values)\n",
    "    while source_value == target_value:\n",
    "        target_value = random.choice(id_str_values)\n",
    "\n",
    "    new_link = {\"source\": source_value, \"target\": target_value}\n",
    "    if new_link not in links:\n",
    "        links.append(new_link)\n",
    "\n",
    "data[\"links\"] = links\n",
    "\n",
    "with open(\"Data/Sample/sampleUnzip.json\", \"w\") as f:\n",
    "    json.dump(data, f)"
   ]
  }
 ],
 "metadata": {
  "kernelspec": {
   "display_name": "base",
   "language": "python",
   "name": "python3"
  },
  "language_info": {
   "codemirror_mode": {
    "name": "ipython",
    "version": 3
   },
   "file_extension": ".py",
   "mimetype": "text/x-python",
   "name": "python",
   "nbconvert_exporter": "python",
   "pygments_lexer": "ipython3",
   "version": "3.8.5"
  },
  "orig_nbformat": 4
 },
 "nbformat": 4,
 "nbformat_minor": 2
}
