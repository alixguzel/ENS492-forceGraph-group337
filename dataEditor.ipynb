{
 "cells": [
  {
   "cell_type": "code",
   "execution_count": 6,
   "metadata": {},
   "outputs": [],
   "source": [
    "import json\n",
    "\n",
    "with open('politicianNodes.json', 'r') as f:\n",
    "    data = json.load(f)\n",
    "\n",
    "for node in data['nodes']:\n",
    "    node['id'] = node.pop('key')\n",
    "    #del node['label']\n",
    "    node.update(node.pop('attributes'))\n",
    "\n",
    "with open('politicianNodes_modified.json', 'w') as f:\n",
    "    json.dump(data, f)"
   ]
  },
  {
   "cell_type": "code",
   "execution_count": 7,
   "metadata": {},
   "outputs": [],
   "source": [
    "import json\n",
    "\n",
    "with open('politicianNodes_modified.json', 'r') as f:\n",
    "    data = json.load(f)\n",
    "\n",
    "for node in data['nodes']:\n",
    "    node['fx'] = node.pop('x')\n",
    "    node['fy'] = node.pop('y')\n",
    "\n",
    "    node['num_followers'] = node.pop('0')\n",
    "    node['num_following'] = node.pop('1')\n",
    "    node['name'] = node.pop('2')\n",
    "    node['screen_name'] = node.pop('3')\n",
    "    node['party'] = node.pop('4')\n",
    "\n",
    "    del node['label']\n",
    "\n",
    "\n",
    "with open('politicianNodes_modified_final.json', 'w') as f:\n",
    "    json.dump(data, f)"
   ]
  },
  {
   "cell_type": "code",
   "execution_count": 11,
   "metadata": {},
   "outputs": [
    {
     "name": "stdout",
     "output_type": "stream",
     "text": [
      "447\n"
     ]
    }
   ],
   "source": [
    "import json\n",
    "\n",
    "with open('politicianNodes_modified_final.json') as f:\n",
    "    data = json.load(f)\n",
    "\n",
    "nodes = data['nodes']\n",
    "num_followers_less_than_100000 = 0\n",
    "\n",
    "for node in nodes:\n",
    "    if node['num_followers'] < 30000:\n",
    "        num_followers_less_than_100000 += 1\n",
    "\n",
    "print(num_followers_less_than_100000)"
   ]
  },
  {
   "cell_type": "code",
   "execution_count": 12,
   "metadata": {},
   "outputs": [
    {
     "name": "stdout",
     "output_type": "stream",
     "text": [
      "527\n",
      "138460\n"
     ]
    }
   ],
   "source": [
    "import json\n",
    "\n",
    "with open('politicianNodes_modified_final.json') as f:\n",
    "    data = json.load(f)\n",
    "\n",
    "nodes = data['nodes']\n",
    "links = data['links']\n",
    "num_followers_less_than_100000 = 0\n",
    "\n",
    "for node in nodes:\n",
    "    if node['num_followers'] < 100000:\n",
    "        num_followers_less_than_100000 += 1\n",
    "        node_id = node['id']\n",
    "        links_to_remove = []\n",
    "        for link in links:\n",
    "            if link['source'] == node_id or link['target'] == node_id:\n",
    "                links_to_remove.append(link)\n",
    "        for link in links_to_remove:\n",
    "            links.remove(link)\n",
    "        nodes.remove(node)\n",
    "\n",
    "new_data = {'nodes': nodes, 'links': links}\n",
    "\n",
    "with open('politicianNodes_smaller.json', 'w') as f:\n",
    "    json.dump(new_data, f)\n",
    "\n",
    "print(len(nodes))\n",
    "print(len(links))"
   ]
  },
  {
   "cell_type": "code",
   "execution_count": 13,
   "metadata": {},
   "outputs": [],
   "source": [
    "import json\n",
    "import random\n",
    "\n",
    "with open('politicianNodes_smaller.json') as f:\n",
    "    data = json.load(f)\n",
    "\n",
    "for node in data['nodes']:\n",
    "    node['fz'] = random.uniform(node['fx'], node['fy'])\n",
    "\n",
    "with open('politicianNodes_smaller_3D.json', 'w') as f:\n",
    "    json.dump(data, f)"
   ]
  },
  {
   "cell_type": "code",
   "execution_count": 17,
   "metadata": {},
   "outputs": [
    {
     "name": "stdout",
     "output_type": "stream",
     "text": [
      "311\n"
     ]
    }
   ],
   "source": [
    "import json\n",
    "\n",
    "with open('politicianNodes_smaller_3D.json') as f:\n",
    "    data = json.load(f)\n",
    "\n",
    "nodes = data['nodes']\n",
    "num_followers_less_than_100000 = 0\n",
    "\n",
    "for node in nodes:\n",
    "    if node['num_followers'] < 100000:\n",
    "        num_followers_less_than_100000 += 1\n",
    "\n",
    "print(num_followers_less_than_100000)"
   ]
  },
  {
   "cell_type": "code",
   "execution_count": 18,
   "metadata": {},
   "outputs": [
    {
     "name": "stdout",
     "output_type": "stream",
     "text": [
      "331\n",
      "54557\n"
     ]
    }
   ],
   "source": [
    "import json\n",
    "\n",
    "with open('politicianNodes_smaller_3D.json') as f:\n",
    "    data = json.load(f)\n",
    "\n",
    "nodes = data['nodes']\n",
    "links = data['links']\n",
    "num_followers_less_than_100000 = 0\n",
    "\n",
    "for node in nodes:\n",
    "    if node['num_followers'] < 100000:\n",
    "        num_followers_less_than_100000 += 1\n",
    "        node_id = node['id']\n",
    "        links_to_remove = []\n",
    "        for link in links:\n",
    "            if link['source'] == node_id or link['target'] == node_id:\n",
    "                links_to_remove.append(link)\n",
    "        for link in links_to_remove:\n",
    "            links.remove(link)\n",
    "        nodes.remove(node)\n",
    "\n",
    "new_data = {'nodes': nodes, 'links': links}\n",
    "\n",
    "with open('politicianNodes_smallest.json', 'w') as f:\n",
    "    json.dump(new_data, f)\n",
    "\n",
    "print(len(nodes))\n",
    "print(len(links))"
   ]
  },
  {
   "cell_type": "code",
   "execution_count": 20,
   "metadata": {},
   "outputs": [],
   "source": [
    "import json\n",
    "import random\n",
    "\n",
    "with open('politicianNodes_modified_final.json') as f:\n",
    "    data = json.load(f)\n",
    "\n",
    "for node in data['nodes']:\n",
    "    node['fz'] = random.uniform(node['fx'], node['fy'])\n",
    "\n",
    "with open('politicianNodes_B3D.json', 'w') as f:\n",
    "    json.dump(data, f)"
   ]
  },
  {
   "cell_type": "code",
   "execution_count": 1,
   "metadata": {},
   "outputs": [],
   "source": [
    "import json\n",
    "\n",
    "with open('politicianNodes_S3D.json', 'r') as f:\n",
    "    data = json.load(f)\n",
    "\n",
    "for node in data['nodes']:\n",
    "    node['neighbors'] = []\n",
    "    node['links'] = []\n",
    "\n",
    "with open('politicianNodes_S3DLV.json', 'w') as f:\n",
    "    json.dump(data, f)"
   ]
  }
 ],
 "metadata": {
  "kernelspec": {
   "display_name": "base",
   "language": "python",
   "name": "python3"
  },
  "language_info": {
   "codemirror_mode": {
    "name": "ipython",
    "version": 3
   },
   "file_extension": ".py",
   "mimetype": "text/x-python",
   "name": "python",
   "nbconvert_exporter": "python",
   "pygments_lexer": "ipython3",
   "version": "3.8.5"
  },
  "orig_nbformat": 4
 },
 "nbformat": 4,
 "nbformat_minor": 2
}
