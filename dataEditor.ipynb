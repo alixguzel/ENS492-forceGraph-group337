{
 "cells": [
  {
   "cell_type": "code",
   "execution_count": 4,
   "metadata": {},
   "outputs": [],
   "source": [
    "import json\n",
    "\n",
    "with open('politicianNodes.json', 'r') as f:\n",
    "    data = json.load(f)\n",
    "\n",
    "for node in data['nodes']:\n",
    "    node['id'] = node.pop('key')\n",
    "    #del node['label']\n",
    "    node.update(node.pop('attributes'))\n",
    "\n",
    "with open('politicianNodes_modified.json', 'w') as f:\n",
    "    json.dump(data, f)"
   ]
  },
  {
   "cell_type": "code",
   "execution_count": 5,
   "metadata": {},
   "outputs": [],
   "source": [
    "import json\n",
    "\n",
    "with open('politicianNodes_modified.json', 'r') as f:\n",
    "    data = json.load(f)\n",
    "\n",
    "for node in data['nodes']:\n",
    "    node['fx'] = node.pop('x')\n",
    "    node['fy'] = node.pop('y')\n",
    "\n",
    "    node['num_followers'] = node.pop('0')\n",
    "    node['num_following'] = node.pop('1')\n",
    "    node['name'] = node.pop('2')\n",
    "    node['screen_name'] = node.pop('3')\n",
    "    node['party'] = node.pop('4')\n",
    "\n",
    "    del node['label']\n",
    "\n",
    "\n",
    "with open('politicianNodes_modified_final.json', 'w') as f:\n",
    "    json.dump(data, f)"
   ]
  }
 ],
 "metadata": {
  "kernelspec": {
   "display_name": "base",
   "language": "python",
   "name": "python3"
  },
  "language_info": {
   "codemirror_mode": {
    "name": "ipython",
    "version": 3
   },
   "file_extension": ".py",
   "mimetype": "text/x-python",
   "name": "python",
   "nbconvert_exporter": "python",
   "pygments_lexer": "ipython3",
   "version": "3.8.5"
  },
  "orig_nbformat": 4
 },
 "nbformat": 4,
 "nbformat_minor": 2
}
