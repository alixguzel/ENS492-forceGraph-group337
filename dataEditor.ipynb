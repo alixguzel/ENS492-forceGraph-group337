{
 "cells": [
  {
   "attachments": {},
   "cell_type": "markdown",
   "metadata": {},
   "source": [
    "This ipynb is for turnining your JSON into forceGraph suitable format, after you export it from the Gephi as a JSON file\n",
    "\n",
    "The first cell is for fixing the the attribute keys, which will be broken once you export from the Gephi. It is important to have columns in your Gephi nodes page in this order:\n",
    "- Id\n",
    "- Label\n",
    "- Interval\n",
    "- #followers\n",
    "- #friends\n",
    "- name\n",
    "- screen_name\n",
    "- party\n",
    "\n",
    "\n",
    "The second cell is for scaling the z values to some degree to make the 3D experience better\n",
    "\n",
    "The third cell is for creating a smaller network by removing the nodes that contain follower less than the specified number of followers. We used this code for creating JSON file that are less than 25MB, so that we can upload the data to our GitHub Repo"
   ]
  },
  {
   "cell_type": "code",
   "execution_count": 1,
   "metadata": {},
   "outputs": [],
   "source": [
    "import json\n",
    "\n",
    "with open('politicianNodes.json', 'r') as f:\n",
    "    data = json.load(f)\n",
    "\n",
    "# Each has to contain an attribute called 'id' rather than 'key'\n",
    "# Once the JSON file is exported from Gephi, the attributes are stored in a dictionary called 'attributes'\n",
    "# Since the attributes are stored in a dictionary, we need to extract them and put them in the same level as the id\n",
    "for node in data['nodes']:\n",
    "    node['id'] = node.pop('key')\n",
    "    node.update(node.pop('attributes'))\n",
    "\n",
    "# To preserve the Network structure prepared in Gephi, we need to fix the x y z coordinates as fx fy fz\n",
    "for node in data['nodes']:\n",
    "    node['fx'] = node.pop('x')\n",
    "    node['fy'] = node.pop('y')\n",
    "    node['fz'] = node.pop('z')\n",
    "\n",
    "    # Since the attribute names are broken during the export, we need to fix them\n",
    "    node['num_followers'] = node.pop('0')\n",
    "    node['num_following'] = node.pop('1')\n",
    "    node['name'] = node.pop('2')\n",
    "    node['screen_name'] = node.pop('3')\n",
    "    node['party'] = node.pop('4')\n",
    "\n",
    "    # Label attribute is not needed\n",
    "    del node['label']\n",
    "\n",
    "# The links are stored in a dictionary called 'edges'\n",
    "# For forceGraph to work, we need to change the name to 'links'\n",
    "data['links'] = data.pop('edges')\n",
    "\n",
    "# Delete the attributes and options since they are not needed\n",
    "del data['attributes']\n",
    "del data['options']\n",
    "\n",
    "# Export the data to a new JSON file\n",
    "with open('politicianNodes_3D.json', 'w') as f:\n",
    "    json.dump(data, f)\n",
    "\n",
    "# If you would like to use this new JSON file as your default data\n",
    "# go to forceGraph.js and change the line: let response = await fetch(\"./politicianNodes_S3DForce.json\");\n",
    "# to: let response = await fetch(\"./your_new_file_name.json\");"
   ]
  },
  {
   "cell_type": "code",
   "execution_count": 2,
   "metadata": {},
   "outputs": [],
   "source": [
    "import json\n",
    "\n",
    "with open('politicianNodes_3D.json', 'r') as f:\n",
    "    data = json.load(f)\n",
    "\n",
    "for node in data['nodes']:\n",
    "    node['fz'] *= 1000000\n",
    "\n",
    "with open('politicianNodes_3D_Scaled.json', 'w') as f:\n",
    "    json.dump(data, f)\n",
    "\n",
    "# If you would like to use this new JSON file as your default data\n",
    "# go to forceGraph.js and change the line: let response = await fetch(\"./politicianNodes_S3DForce.json\");\n",
    "# to: let response = await fetch(\"./your_new_file_name.json\");"
   ]
  },
  {
   "cell_type": "code",
   "execution_count": 5,
   "metadata": {},
   "outputs": [
    {
     "name": "stdout",
     "output_type": "stream",
     "text": [
      "527\n",
      "138460\n"
     ]
    }
   ],
   "source": [
    "import json\n",
    "\n",
    "with open('politicianNodes_3DForce.json') as f:\n",
    "    data = json.load(f)\n",
    "\n",
    "nodes = data['nodes']\n",
    "links = data['links']\n",
    "num_followers_less_than_100000 = 0\n",
    "\n",
    "# Remove nodes with less than 100000 followers\n",
    "for node in nodes:\n",
    "    if node['num_followers'] < 100000:\n",
    "        num_followers_less_than_100000 += 1\n",
    "        node_id = node['id']\n",
    "        links_to_remove = []\n",
    "        for link in links:\n",
    "            if link['source'] == node_id or link['target'] == node_id:\n",
    "                links_to_remove.append(link)\n",
    "        for link in links_to_remove:\n",
    "            links.remove(link)\n",
    "        nodes.remove(node)\n",
    "\n",
    "new_data = {'nodes': nodes, 'links': links}\n",
    "\n",
    "with open('politicianNodes_S3DForce.json', 'w') as f:\n",
    "    json.dump(new_data, f)\n",
    "\n",
    "print(len(nodes))\n",
    "print(len(links))"
   ]
  }
 ],
 "metadata": {
  "kernelspec": {
   "display_name": "base",
   "language": "python",
   "name": "python3"
  },
  "language_info": {
   "codemirror_mode": {
    "name": "ipython",
    "version": 3
   },
   "file_extension": ".py",
   "mimetype": "text/x-python",
   "name": "python",
   "nbconvert_exporter": "python",
   "pygments_lexer": "ipython3",
   "version": "3.8.5"
  },
  "orig_nbformat": 4
 },
 "nbformat": 4,
 "nbformat_minor": 2
}
