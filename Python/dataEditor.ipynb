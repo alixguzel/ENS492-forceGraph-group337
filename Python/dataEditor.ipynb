{
 "cells": [
  {
   "cell_type": "code",
   "execution_count": 6,
   "metadata": {},
   "outputs": [],
   "source": [
    "import json\n",
    "\n",
    "with open('politicianNodes.json', 'r') as f:\n",
    "    data = json.load(f)\n",
    "\n",
    "for node in data['nodes']:\n",
    "    node['id'] = node.pop('key')\n",
    "    #del node['label']\n",
    "    node.update(node.pop('attributes'))\n",
    "\n",
    "with open('politicianNodes_modified.json', 'w') as f:\n",
    "    json.dump(data, f)"
   ]
  },
  {
   "cell_type": "code",
   "execution_count": 7,
   "metadata": {},
   "outputs": [],
   "source": [
    "import json\n",
    "\n",
    "with open('politicianNodes_modified.json', 'r') as f:\n",
    "    data = json.load(f)\n",
    "\n",
    "for node in data['nodes']:\n",
    "    node['fx'] = node.pop('x')\n",
    "    node['fy'] = node.pop('y')\n",
    "\n",
    "    node['num_followers'] = node.pop('0')\n",
    "    node['num_following'] = node.pop('1')\n",
    "    node['name'] = node.pop('2')\n",
    "    node['screen_name'] = node.pop('3')\n",
    "    node['party'] = node.pop('4')\n",
    "\n",
    "    del node['label']\n",
    "\n",
    "\n",
    "with open('politicianNodes_modified_final.json', 'w') as f:\n",
    "    json.dump(data, f)"
   ]
  },
  {
   "cell_type": "code",
   "execution_count": 11,
   "metadata": {},
   "outputs": [
    {
     "name": "stdout",
     "output_type": "stream",
     "text": [
      "447\n"
     ]
    }
   ],
   "source": [
    "import json\n",
    "\n",
    "with open('politicianNodes_modified_final.json') as f:\n",
    "    data = json.load(f)\n",
    "\n",
    "nodes = data['nodes']\n",
    "num_followers_less_than_100000 = 0\n",
    "\n",
    "for node in nodes:\n",
    "    if node['num_followers'] < 30000:\n",
    "        num_followers_less_than_100000 += 1\n",
    "\n",
    "print(num_followers_less_than_100000)"
   ]
  },
  {
   "cell_type": "code",
   "execution_count": 12,
   "metadata": {},
   "outputs": [
    {
     "name": "stdout",
     "output_type": "stream",
     "text": [
      "527\n",
      "138460\n"
     ]
    }
   ],
   "source": [
    "import json\n",
    "\n",
    "with open('politicianNodes_modified_final.json') as f:\n",
    "    data = json.load(f)\n",
    "\n",
    "nodes = data['nodes']\n",
    "links = data['links']\n",
    "num_followers_less_than_100000 = 0\n",
    "\n",
    "for node in nodes:\n",
    "    if node['num_followers'] < 100000:\n",
    "        num_followers_less_than_100000 += 1\n",
    "        node_id = node['id']\n",
    "        links_to_remove = []\n",
    "        for link in links:\n",
    "            if link['source'] == node_id or link['target'] == node_id:\n",
    "                links_to_remove.append(link)\n",
    "        for link in links_to_remove:\n",
    "            links.remove(link)\n",
    "        nodes.remove(node)\n",
    "\n",
    "new_data = {'nodes': nodes, 'links': links}\n",
    "\n",
    "with open('politicianNodes_smaller.json', 'w') as f:\n",
    "    json.dump(new_data, f)\n",
    "\n",
    "print(len(nodes))\n",
    "print(len(links))"
   ]
  },
  {
   "cell_type": "code",
   "execution_count": 13,
   "metadata": {},
   "outputs": [],
   "source": [
    "import json\n",
    "import random\n",
    "\n",
    "with open('politicianNodes_smaller.json') as f:\n",
    "    data = json.load(f)\n",
    "\n",
    "for node in data['nodes']:\n",
    "    node['fz'] = random.uniform(node['fx'], node['fy'])\n",
    "\n",
    "with open('politicianNodes_smaller_3D.json', 'w') as f:\n",
    "    json.dump(data, f)"
   ]
  },
  {
   "cell_type": "code",
   "execution_count": 17,
   "metadata": {},
   "outputs": [
    {
     "name": "stdout",
     "output_type": "stream",
     "text": [
      "311\n"
     ]
    }
   ],
   "source": [
    "import json\n",
    "\n",
    "with open('politicianNodes_smaller_3D.json') as f:\n",
    "    data = json.load(f)\n",
    "\n",
    "nodes = data['nodes']\n",
    "num_followers_less_than_100000 = 0\n",
    "\n",
    "for node in nodes:\n",
    "    if node['num_followers'] < 100000:\n",
    "        num_followers_less_than_100000 += 1\n",
    "\n",
    "print(num_followers_less_than_100000)"
   ]
  },
  {
   "cell_type": "code",
   "execution_count": 18,
   "metadata": {},
   "outputs": [
    {
     "name": "stdout",
     "output_type": "stream",
     "text": [
      "331\n",
      "54557\n"
     ]
    }
   ],
   "source": [
    "import json\n",
    "\n",
    "with open('politicianNodes_smaller_3D.json') as f:\n",
    "    data = json.load(f)\n",
    "\n",
    "nodes = data['nodes']\n",
    "links = data['links']\n",
    "num_followers_less_than_100000 = 0\n",
    "\n",
    "for node in nodes:\n",
    "    if node['num_followers'] < 100000:\n",
    "        num_followers_less_than_100000 += 1\n",
    "        node_id = node['id']\n",
    "        links_to_remove = []\n",
    "        for link in links:\n",
    "            if link['source'] == node_id or link['target'] == node_id:\n",
    "                links_to_remove.append(link)\n",
    "        for link in links_to_remove:\n",
    "            links.remove(link)\n",
    "        nodes.remove(node)\n",
    "\n",
    "new_data = {'nodes': nodes, 'links': links}\n",
    "\n",
    "with open('politicianNodes_smallest.json', 'w') as f:\n",
    "    json.dump(new_data, f)\n",
    "\n",
    "print(len(nodes))\n",
    "print(len(links))"
   ]
  },
  {
   "cell_type": "code",
   "execution_count": 20,
   "metadata": {},
   "outputs": [],
   "source": [
    "import json\n",
    "import random\n",
    "\n",
    "with open('politicianNodes_modified_final.json') as f:\n",
    "    data = json.load(f)\n",
    "\n",
    "for node in data['nodes']:\n",
    "    node['fz'] = random.uniform(node['fx'], node['fy'])\n",
    "\n",
    "with open('politicianNodes_B3D.json', 'w') as f:\n",
    "    json.dump(data, f)"
   ]
  },
  {
   "cell_type": "code",
   "execution_count": 4,
   "metadata": {},
   "outputs": [],
   "source": [
    "import json\n",
    "\n",
    "def find_node(screen_name, nodes):\n",
    "    for node in nodes:\n",
    "        if node['screen_name'] == screen_name:\n",
    "            return node\n",
    "\n",
    "def find_links(node_id, links):\n",
    "    result = []\n",
    "    for link in links:\n",
    "        if link['source'] == node_id or link['target'] == node_id:\n",
    "            result.append(link)\n",
    "    return result\n",
    "\n",
    "def find_linked_node(link, nodes, node_id):\n",
    "    if link['source'] == node_id:\n",
    "        linked_node_id = link['target']\n",
    "    else:\n",
    "        linked_node_id = link['source']\n",
    "    for node in nodes:\n",
    "        if node['id'] == linked_node_id:\n",
    "            return node\n",
    "\n",
    "def create_subnetwork(screen_name):\n",
    "    with open('politicianNodes_S3D.json', 'r') as f:\n",
    "        data = json.load(f)\n",
    "    nodes = data['nodes']\n",
    "    links = data['links']\n",
    "    new_nodes = []\n",
    "    new_links = []\n",
    "    node = find_node(screen_name, nodes)\n",
    "    new_nodes.append(node)\n",
    "    links_to_process = find_links(node['id'], links)\n",
    "    for link in links_to_process:\n",
    "        new_links.append(link)\n",
    "        linked_node = find_linked_node(link, nodes, node['id'])\n",
    "        if linked_node not in new_nodes:\n",
    "            new_nodes.append(linked_node)\n",
    "    with open(f'SubNetworks/{screen_name}_subnetwork.json', 'w') as f:\n",
    "        json.dump({'nodes': new_nodes, 'links': new_links}, f)\n",
    "\n",
    "create_subnetwork(\"komunisthareket\")"
   ]
  },
  {
   "cell_type": "code",
   "execution_count": 7,
   "metadata": {},
   "outputs": [
    {
     "name": "stdout",
     "output_type": "stream",
     "text": [
      "39\n"
     ]
    }
   ],
   "source": [
    "import json\n",
    "\n",
    "with open('politicianNodes_S3D.json') as f:\n",
    "    data = json.load(f)\n",
    "\n",
    "nodes = data['nodes']\n",
    "num_followers_less_than_100000 = 0\n",
    "\n",
    "for node in nodes:\n",
    "    if node['num_followers'] > 1000000:\n",
    "        num_followers_less_than_100000 += 1\n",
    "\n",
    "print(num_followers_less_than_100000)"
   ]
  },
  {
   "cell_type": "code",
   "execution_count": 8,
   "metadata": {},
   "outputs": [],
   "source": [
    "import json\n",
    "\n",
    "def find_node(screen_name, nodes):\n",
    "    for node in nodes:\n",
    "        if node['screen_name'] == screen_name:\n",
    "            return node\n",
    "\n",
    "def find_links(node_id, links):\n",
    "    result = []\n",
    "    for link in links:\n",
    "        if link['source'] == node_id or link['target'] == node_id:\n",
    "            result.append(link)\n",
    "    return result\n",
    "\n",
    "def find_linked_node(link, nodes, node_id):\n",
    "    if link['source'] == node_id:\n",
    "        linked_node_id = link['target']\n",
    "    else:\n",
    "        linked_node_id = link['source']\n",
    "    for node in nodes:\n",
    "        if node['id'] == linked_node_id:\n",
    "            return node\n",
    "\n",
    "def create_subnetworks():\n",
    "    with open('politicianNodes_S3D.json', 'r') as f:\n",
    "        data = json.load(f)\n",
    "    nodes = data['nodes']\n",
    "    links = data['links']\n",
    "    for node in nodes:\n",
    "        if 'num_followers' in node and node['num_followers'] > 1000000:\n",
    "            screen_name = node['screen_name']\n",
    "            new_nodes = []\n",
    "            new_links = []\n",
    "            new_nodes.append(node)\n",
    "            links_to_process = find_links(node['id'], links)\n",
    "            for link in links_to_process:\n",
    "                new_links.append(link)\n",
    "                linked_node = find_linked_node(link, nodes, node['id'])\n",
    "                if linked_node not in new_nodes:\n",
    "                    new_nodes.append(linked_node)\n",
    "            with open(f'SubNetworks/{screen_name}_subnetwork.json', 'w') as f:\n",
    "                json.dump({'nodes': new_nodes, 'links': new_links}, f)\n",
    "\n",
    "create_subnetworks()"
   ]
  },
  {
   "cell_type": "code",
   "execution_count": 2,
   "metadata": {},
   "outputs": [],
   "source": [
    "import json\n",
    "\n",
    "with open('politicianNodes_S3D.json', 'r') as f:\n",
    "    data = json.load(f)\n",
    "\n",
    "for node in data['nodes']:\n",
    "    del node['fx']\n",
    "    del node['fy']\n",
    "    del node['fz']\n",
    "\n",
    "with open('politicianNodes_NC.json', 'w') as f:\n",
    "    json.dump(data, f)\n"
   ]
  },
  {
   "cell_type": "code",
   "execution_count": 14,
   "metadata": {},
   "outputs": [],
   "source": [
    "import json\n",
    "\n",
    "with open('politicianNodes_modified_final.json', 'r') as f:\n",
    "    data = json.load(f)\n",
    "\n",
    "for node in data['nodes']:\n",
    "    node['fz'] *= 1000\n",
    "\n",
    "with open('politicianNodes_3DForce.json', 'w') as f:\n",
    "    json.dump(data, f)\n"
   ]
  }
 ],
 "metadata": {
  "kernelspec": {
   "display_name": "base",
   "language": "python",
   "name": "python3"
  },
  "language_info": {
   "codemirror_mode": {
    "name": "ipython",
    "version": 3
   },
   "file_extension": ".py",
   "mimetype": "text/x-python",
   "name": "python",
   "nbconvert_exporter": "python",
   "pygments_lexer": "ipython3",
   "version": "3.8.5"
  },
  "orig_nbformat": 4
 },
 "nbformat": 4,
 "nbformat_minor": 2
}
