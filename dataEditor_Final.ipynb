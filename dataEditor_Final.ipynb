{
 "cells": [
  {
   "cell_type": "code",
   "execution_count": 4,
   "metadata": {},
   "outputs": [],
   "source": [
    "import json\n",
    "\n",
    "with open('politicianNodes.json', 'r') as f:\n",
    "    data = json.load(f)\n",
    "\n",
    "for node in data['nodes']:\n",
    "    node['id'] = node.pop('key')\n",
    "    node.update(node.pop('attributes'))\n",
    "\n",
    "for node in data['nodes']:\n",
    "    node['fx'] = node.pop('x')\n",
    "    node['fy'] = node.pop('y')\n",
    "    node['fz'] = node.pop('z')\n",
    "\n",
    "    node['num_followers'] = node.pop('0')\n",
    "    node['num_following'] = node.pop('1')\n",
    "    node['name'] = node.pop('2')\n",
    "    node['screen_name'] = node.pop('3')\n",
    "    node['party'] = node.pop('4')\n",
    "\n",
    "    del node['label']\n",
    "\n",
    "data['links'] = data.pop('edges')\n",
    "\n",
    "del data['attributes']\n",
    "del data['options']\n",
    "\n",
    "with open('politicianNodes_3DScaled.json', 'w') as f:\n",
    "    json.dump(data, f)\n"
   ]
  },
  {
   "cell_type": "code",
   "execution_count": 1,
   "metadata": {},
   "outputs": [],
   "source": [
    "import json\n",
    "\n",
    "with open('politicianNodes.json', 'r') as f:\n",
    "    data = json.load(f)\n",
    "\n",
    "for node in data['nodes']:\n",
    "    node['id'] = node.pop('key')\n",
    "    node.update(node.pop('attributes'))\n",
    "\n",
    "with open('politicianNodes_modified.json', 'w') as f:\n",
    "    json.dump(data, f)"
   ]
  },
  {
   "cell_type": "code",
   "execution_count": 2,
   "metadata": {},
   "outputs": [],
   "source": [
    "import json\n",
    "\n",
    "with open('politicianNodes_modified.json', 'r') as f:\n",
    "    data = json.load(f)\n",
    "\n",
    "for node in data['nodes']:\n",
    "    node['fx'] = node.pop('x')\n",
    "    node['fy'] = node.pop('y')\n",
    "    node['fz'] = node.pop('z')\n",
    "\n",
    "    node['num_followers'] = node.pop('0')\n",
    "    node['num_following'] = node.pop('1')\n",
    "    node['name'] = node.pop('2')\n",
    "    node['screen_name'] = node.pop('3')\n",
    "    node['party'] = node.pop('4')\n",
    "\n",
    "    del node['label']\n",
    "\n",
    "\n",
    "with open('politicianNodes_modified_final.json', 'w') as f:\n",
    "    json.dump(data, f)"
   ]
  },
  {
   "cell_type": "code",
   "execution_count": null,
   "metadata": {},
   "outputs": [],
   "source": [
    "import json\n",
    "\n",
    "with open('politicianNodes_modified_final.json', 'r') as f:\n",
    "    data = json.load(f)\n",
    "\n",
    "for node in data['nodes']:\n",
    "    node['fz'] *= 1000\n",
    "\n",
    "with open('politicianNodes_3DScaled.json', 'w') as f:\n",
    "    json.dump(data, f)"
   ]
  },
  {
   "cell_type": "code",
   "execution_count": 5,
   "metadata": {},
   "outputs": [
    {
     "name": "stdout",
     "output_type": "stream",
     "text": [
      "527\n",
      "138460\n"
     ]
    }
   ],
   "source": [
    "import json\n",
    "\n",
    "with open('politicianNodes_3DForce.json') as f:\n",
    "    data = json.load(f)\n",
    "\n",
    "nodes = data['nodes']\n",
    "links = data['links']\n",
    "num_followers_less_than_100000 = 0\n",
    "\n",
    "for node in nodes:\n",
    "    if node['num_followers'] < 100000:\n",
    "        num_followers_less_than_100000 += 1\n",
    "        node_id = node['id']\n",
    "        links_to_remove = []\n",
    "        for link in links:\n",
    "            if link['source'] == node_id or link['target'] == node_id:\n",
    "                links_to_remove.append(link)\n",
    "        for link in links_to_remove:\n",
    "            links.remove(link)\n",
    "        nodes.remove(node)\n",
    "\n",
    "new_data = {'nodes': nodes, 'links': links}\n",
    "\n",
    "with open('politicianNodes_S3DForce.json', 'w') as f:\n",
    "    json.dump(new_data, f)\n",
    "\n",
    "print(len(nodes))\n",
    "print(len(links))"
   ]
  }
 ],
 "metadata": {
  "kernelspec": {
   "display_name": "base",
   "language": "python",
   "name": "python3"
  },
  "language_info": {
   "codemirror_mode": {
    "name": "ipython",
    "version": 3
   },
   "file_extension": ".py",
   "mimetype": "text/x-python",
   "name": "python",
   "nbconvert_exporter": "python",
   "pygments_lexer": "ipython3",
   "version": "3.8.5"
  },
  "orig_nbformat": 4
 },
 "nbformat": 4,
 "nbformat_minor": 2
}
